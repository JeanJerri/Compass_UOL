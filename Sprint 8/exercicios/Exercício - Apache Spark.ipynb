{
 "cells": [
  {
   "cell_type": "code",
   "execution_count": 25,
   "id": "689e056f-4c59-4581-91ef-aaa04a590af3",
   "metadata": {},
   "outputs": [
    {
     "name": "stdout",
     "output_type": "stream",
     "text": [
      "+----------------+\n",
      "|             _c0|\n",
      "+----------------+\n",
      "|  Frances Bennet|\n",
      "|   Jamie Russell|\n",
      "|  Edward Kistler|\n",
      "|   Sheila Maurer|\n",
      "|Donald Golightly|\n",
      "+----------------+\n",
      "only showing top 5 rows\n",
      "\n",
      "root\n",
      " |-- _c0: string (nullable = true)\n",
      "\n"
     ]
    }
   ],
   "source": [
    "from pyspark.sql import SparkSession\n",
    "from pyspark import SparkContext, SQLContext\n",
    "\n",
    "spark = SparkSession \\\n",
    "        .builder \\\n",
    "        .master(\"local[*]\") \\\n",
    "        .appName(\"Exercicio Intro\") \\\n",
    "        .getOrCreate()\n",
    "\n",
    "df_nomes = spark.read.csv(\"nomes_aleatorios.txt\")\n",
    "df_nomes.show(5)\n",
    "df_nomes.printSchema()"
   ]
  },
  {
   "cell_type": "code",
   "execution_count": 26,
   "id": "6c2f9884-d5a6-4089-ba3a-069c53db9dc1",
   "metadata": {},
   "outputs": [
    {
     "name": "stdout",
     "output_type": "stream",
     "text": [
      "root\n",
      " |-- Nome: string (nullable = true)\n",
      "\n",
      "+-----------------+\n",
      "|             Nome|\n",
      "+-----------------+\n",
      "|   Frances Bennet|\n",
      "|    Jamie Russell|\n",
      "|   Edward Kistler|\n",
      "|    Sheila Maurer|\n",
      "| Donald Golightly|\n",
      "|       David Gray|\n",
      "|      Joy Bennett|\n",
      "|      Paul Kriese|\n",
      "|Berniece Ornellas|\n",
      "|    Brian Farrell|\n",
      "+-----------------+\n",
      "only showing top 10 rows\n",
      "\n"
     ]
    }
   ],
   "source": [
    "df_nomes = df_nomes.withColumnRenamed(\"_c0\", \"Nome\")\n",
    "df_nomes.printSchema()\n",
    "df_nomes.show(10)"
   ]
  },
  {
   "cell_type": "code",
   "execution_count": 27,
   "id": "47681fae-92b1-49f7-833d-4a1f951ae655",
   "metadata": {},
   "outputs": [
    {
     "name": "stdout",
     "output_type": "stream",
     "text": [
      "+----------------+------------+\n",
      "|            Nome|Escolaridade|\n",
      "+----------------+------------+\n",
      "|  Frances Bennet|    Superior|\n",
      "|   Jamie Russell| Fundamental|\n",
      "|  Edward Kistler|       Medio|\n",
      "|   Sheila Maurer|       Medio|\n",
      "|Donald Golightly|       Medio|\n",
      "+----------------+------------+\n",
      "only showing top 5 rows\n",
      "\n",
      "root\n",
      " |-- Nome: string (nullable = true)\n",
      " |-- Escolaridade: string (nullable = false)\n",
      "\n"
     ]
    }
   ],
   "source": [
    "from pyspark.sql.functions import rand, when\n",
    "\n",
    "df_nomes = df_nomes.withColumn(\n",
    "    \"Escolaridade\",\n",
    "    when(rand() < 0.33, \"Fundamental\")\n",
    "    .when(rand() < 0.66, \"Medio\")\n",
    "    .otherwise(\"Superior\")\n",
    ")\n",
    "df_nomes.show(5)\n",
    "df_nomes.printSchema()"
   ]
  },
  {
   "cell_type": "code",
   "execution_count": 28,
   "id": "0228977c-ab0d-4450-9e3d-bdc057c6389c",
   "metadata": {},
   "outputs": [
    {
     "name": "stdout",
     "output_type": "stream",
     "text": [
      "+----------------+------------+--------+\n",
      "|            Nome|Escolaridade|    Pais|\n",
      "+----------------+------------+--------+\n",
      "|  Frances Bennet|    Superior|  Guiana|\n",
      "|   Jamie Russell| Fundamental|Colômbia|\n",
      "|  Edward Kistler|       Medio|  Brasil|\n",
      "|   Sheila Maurer|       Medio|  Brasil|\n",
      "|Donald Golightly|       Medio|Colômbia|\n",
      "+----------------+------------+--------+\n",
      "only showing top 5 rows\n",
      "\n",
      "root\n",
      " |-- Nome: string (nullable = true)\n",
      " |-- Escolaridade: string (nullable = false)\n",
      " |-- Pais: string (nullable = false)\n",
      "\n"
     ]
    }
   ],
   "source": [
    "paises = [\"Argentina\", \"Bolívia\", \"Brasil\", \"Chile\", \n",
    "          \"Colômbia\", \"Equador\", \"Guiana\", \"Guiana Francesa\", \n",
    "          \"Paraguai\", \"Peru\", \"Suriname\", \"Uruguai\", \"Venezuela\"]\n",
    "pais = (\n",
    "    when(rand() < 0.077, paises[0])\n",
    "    .when(rand() < 0.154, paises[1])\n",
    "    .when(rand() < 0.231, paises[2])\n",
    "    .when(rand() < 0.308, paises[3])\n",
    "    .when(rand() < 0.385, paises[4])\n",
    "    .when(rand() < 0.462, paises[5])\n",
    "    .when(rand() < 0.539, paises[6])\n",
    "    .when(rand() < 0.616, paises[7])\n",
    "    .when(rand() < 0.693, paises[8])\n",
    "    .when(rand() < 0.770, paises[9])\n",
    "    .when(rand() < 0.847, paises[10])\n",
    "    .when(rand() < 0.924, paises[11])\n",
    "    .otherwise(paises[12])\n",
    ")\n",
    "df_nomes = df_nomes.withColumn(\"Pais\", pais)\n",
    "df_nomes.show(5)\n",
    "df_nomes.printSchema()"
   ]
  },
  {
   "cell_type": "code",
   "execution_count": 29,
   "id": "4cf494ec-2ce6-4048-b1b3-3f16d8777249",
   "metadata": {},
   "outputs": [
    {
     "name": "stdout",
     "output_type": "stream",
     "text": [
      "+----------------+------------+--------+-------------+\n",
      "|            Nome|Escolaridade|    Pais|AnoNascimento|\n",
      "+----------------+------------+--------+-------------+\n",
      "|  Frances Bennet|    Superior|  Guiana|         1995|\n",
      "|   Jamie Russell| Fundamental|Colômbia|         1969|\n",
      "|  Edward Kistler|       Medio|  Brasil|         1996|\n",
      "|   Sheila Maurer|       Medio|  Brasil|         2010|\n",
      "|Donald Golightly|       Medio|Colômbia|         1995|\n",
      "+----------------+------------+--------+-------------+\n",
      "only showing top 5 rows\n",
      "\n",
      "root\n",
      " |-- Nome: string (nullable = true)\n",
      " |-- Escolaridade: string (nullable = false)\n",
      " |-- Pais: string (nullable = false)\n",
      " |-- AnoNascimento: integer (nullable = true)\n",
      "\n"
     ]
    }
   ],
   "source": [
    "from pyspark.sql.functions import expr\n",
    "\n",
    "expr_ano = expr(f\"CAST({1945} + FLOOR(rand() * (2010 - 1945 + 1)) AS INT)\")\n",
    "df_nomes = df_nomes.withColumn(\"AnoNascimento\", expr_ano)\n",
    "\n",
    "df_nomes.show(5)\n",
    "df_nomes.printSchema()"
   ]
  },
  {
   "cell_type": "code",
   "execution_count": 35,
   "id": "53fc5262-1db0-4d4f-9c6b-8afc329ba592",
   "metadata": {},
   "outputs": [
    {
     "name": "stdout",
     "output_type": "stream",
     "text": [
      "+-------------+\n",
      "|AnoNascimento|\n",
      "+-------------+\n",
      "|         2010|\n",
      "|         2008|\n",
      "|         2007|\n",
      "|         2009|\n",
      "|         2001|\n",
      "+-------------+\n",
      "only showing top 5 rows\n",
      "\n"
     ]
    }
   ],
   "source": [
    "from pyspark.sql.functions import col\n",
    "\n",
    "df_select = df_nomes.select(\"AnoNascimento\").where((col(\"AnoNascimento\")>2000) & (col(\"AnoNascimento\")<2101))\n",
    "df_select.show(5)"
   ]
  },
  {
   "cell_type": "code",
   "execution_count": 38,
   "id": "25d48d64-1c79-464c-88fc-e0e72e3945ed",
   "metadata": {},
   "outputs": [
    {
     "name": "stdout",
     "output_type": "stream",
     "text": [
      "+-----------------+------------+---------------+-------------+\n",
      "|             Nome|Escolaridade|           Pais|AnoNascimento|\n",
      "+-----------------+------------+---------------+-------------+\n",
      "|    Sheila Maurer|       Medio|         Brasil|         2010|\n",
      "|   Wilfredo Grant|       Medio|          Chile|         2008|\n",
      "|  Jerry Chynoweth| Fundamental|       Colômbia|         2007|\n",
      "|      Donald Vogt|       Medio|      Argentina|         2009|\n",
      "|    Milton Dillon|       Medio|          Chile|         2001|\n",
      "|       Ned Tester|       Medio|        Bolívia|         2009|\n",
      "|      Milton Rowe|       Medio|          Chile|         2008|\n",
      "|       April Ward|       Medio|Guiana Francesa|         2002|\n",
      "|    Evelyn Shaver|       Medio|         Guiana|         2006|\n",
      "|   Kenneth Winter|       Medio|          Chile|         2010|\n",
      "| Maurice Blizzard| Fundamental|         Guiana|         2010|\n",
      "|  Suzanne Bullard|       Medio|          Chile|         2003|\n",
      "|  Pamela Banuelos|       Medio|      Argentina|         2006|\n",
      "|      Andrew Orem|       Medio|        Equador|         2009|\n",
      "|     Jason Martin|       Medio|          Chile|         2007|\n",
      "|     Douglas Boyd|       Medio|          Chile|         2006|\n",
      "|      Linda Batts| Fundamental|        Bolívia|         2001|\n",
      "|     Ricky Scheel| Fundamental|       Colômbia|         2001|\n",
      "|Anthony Hernandez|       Medio|      Argentina|         2009|\n",
      "|      Wendi Klein| Fundamental|        Equador|         2005|\n",
      "+-----------------+------------+---------------+-------------+\n",
      "only showing top 20 rows\n",
      "\n"
     ]
    }
   ],
   "source": [
    "df_nomes.createOrReplaceTempView(\"pessoas\")\n",
    "spark.sql(\"select*from pessoas where AnoNascimento > 2000 and AnoNascimento < 2101\").show()"
   ]
  },
  {
   "cell_type": "code",
   "execution_count": 39,
   "id": "63ed8d7f-2be7-4c47-91d4-bee15a1e3232",
   "metadata": {},
   "outputs": [
    {
     "data": {
      "text/plain": [
       "1969792"
      ]
     },
     "execution_count": 39,
     "metadata": {},
     "output_type": "execute_result"
    }
   ],
   "source": [
    "df_select = df_nomes.select(\"AnoNascimento\").where((col(\"AnoNascimento\")>1980) & (col(\"AnoNascimento\")<1994))\n",
    "df_select.count()"
   ]
  },
  {
   "cell_type": "code",
   "execution_count": 65,
   "id": "9b5b3d85-f447-4f52-9263-6ac1153c6c6f",
   "metadata": {},
   "outputs": [
    {
     "name": "stdout",
     "output_type": "stream",
     "text": [
      "+-------+\n",
      "|  Total|\n",
      "+-------+\n",
      "|2576053|\n",
      "+-------+\n",
      "\n"
     ]
    }
   ],
   "source": [
    "df_nomes.createOrReplaceTempView(\"pessoas\")\n",
    "spark.sql(\"select count(*) as Total from pessoas where AnoNascimento between 1979 and 1995\").show()"
   ]
  },
  {
   "cell_type": "code",
   "execution_count": 66,
   "id": "b26d8315-3c3d-4ab0-984c-cd846cab19a1",
   "metadata": {},
   "outputs": [
    {
     "name": "stdout",
     "output_type": "stream",
     "text": [
      "+---------+--------------------+----------+\n",
      "|     Pais|             Geracao|Quantidade|\n",
      "+---------+--------------------+----------+\n",
      "|Argentina|        Baby Boomers|    233451|\n",
      "|Argentina|           Geração X|    174700|\n",
      "|Argentina|           Geração Z|    186297|\n",
      "|Argentina|Millennials (Gera...|    175682|\n",
      "|  Bolívia|        Baby Boomers|    430215|\n",
      "|  Bolívia|           Geração X|    323385|\n",
      "|  Bolívia|           Geração Z|    344794|\n",
      "|  Bolívia|Millennials (Gera...|    323501|\n",
      "|   Brasil|        Baby Boomers|    546001|\n",
      "|   Brasil|           Geração X|    410394|\n",
      "|   Brasil|           Geração Z|    436846|\n",
      "|   Brasil|Millennials (Gera...|    410348|\n",
      "|    Chile|        Baby Boomers|    560960|\n",
      "|    Chile|           Geração X|    421115|\n",
      "|    Chile|           Geração Z|    449799|\n",
      "|    Chile|Millennials (Gera...|    420149|\n",
      "| Colômbia|        Baby Boomers|    485763|\n",
      "| Colômbia|           Geração X|    362854|\n",
      "| Colômbia|           Geração Z|    387549|\n",
      "| Colômbia|Millennials (Gera...|    362679|\n",
      "+---------+--------------------+----------+\n",
      "only showing top 20 rows\n",
      "\n"
     ]
    }
   ],
   "source": [
    "df_nomes.createOrReplaceTempView(\"geracoes\")\n",
    "df_geracao = spark.sql(\"\"\"\n",
    "    select \n",
    "        Pais, \n",
    "        case \n",
    "            when AnoNascimento between 1944 and 1964 then 'Baby Boomers'\n",
    "            when AnoNascimento between 1965 and 1979 then 'Geração X'\n",
    "            when AnoNascimento between 1980 and 1994 then 'Millennials (Geração Y)'\n",
    "            when AnoNascimento between 1995 and 2015 then 'Geração Z'\n",
    "        end as Geracao,\n",
    "        count(*) as Quantidade\n",
    "    from geracoes\n",
    "    group by Pais, Geracao\n",
    "    order by Pais, Geracao, Quantidade\n",
    "\"\"\")\n",
    "df_geracao.show()"
   ]
  },
  {
   "cell_type": "code",
   "execution_count": null,
   "id": "337bbb45-0b5c-4d91-a988-3753171158f7",
   "metadata": {},
   "outputs": [],
   "source": [
    "spark.stop()"
   ]
  }
 ],
 "metadata": {
  "kernelspec": {
   "display_name": "Python 3 (ipykernel)",
   "language": "python",
   "name": "python3"
  },
  "language_info": {
   "codemirror_mode": {
    "name": "ipython",
    "version": 3
   },
   "file_extension": ".py",
   "mimetype": "text/x-python",
   "name": "python",
   "nbconvert_exporter": "python",
   "pygments_lexer": "ipython3",
   "version": "3.11.6"
  }
 },
 "nbformat": 4,
 "nbformat_minor": 5
}
